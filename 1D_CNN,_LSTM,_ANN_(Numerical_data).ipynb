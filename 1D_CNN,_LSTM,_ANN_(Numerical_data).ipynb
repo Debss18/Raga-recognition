{
  "cells": [
    {
      "cell_type": "code",
      "execution_count": null,
      "metadata": {
        "id": "OMGCDdmpx25A"
      },
      "outputs": [],
      "source": [
        "import librosa\n",
        "import numpy as np\n",
        "import os\n",
        "import pandas as pd\n",
        "import csv\n",
        "import matplotlib.pyplot as plt\n",
        "from sklearn.model_selection import train_test_split\n",
        "from sklearn.preprocessing import LabelEncoder, StandardScaler\n",
        "import keras\n",
        "import tensorflow.keras.layers as layers\n",
        "import keras\n",
        "import tensorflow as tf\n",
        "from keras.layers import Dense\n",
        "from keras.layers import LSTM\n",
        "from keras.layers import Flatten\n",
        "from keras.optimizers import Adam\n",
        "from keras.layers import Bidirectional\n",
        "from sklearn.preprocessing import MinMaxScaler\n",
        "from sklearn.metrics import mean_squared_error\n",
        "import librosa.display"
      ]
    },
    {
      "cell_type": "code",
      "execution_count": null,
      "metadata": {
        "colab": {
          "base_uri": "https://localhost:8080/"
        },
        "id": "rOG-t2tCGxc5",
        "outputId": "32f408c1-bb77-4d88-cb8a-fe0f162dc1cf"
      },
      "outputs": [
        {
          "data": {
            "text/plain": [
              "['Atana',\n",
              " 'Husseni',\n",
              " 'Bilahari',\n",
              " 'Behag',\n",
              " 'Bhairavi',\n",
              " 'Begada',\n",
              " 'Harikambhoji',\n",
              " 'Dhanyasi',\n",
              " 'Kamas',\n",
              " 'Kalyani',\n",
              " '.ipynb_checkpoints']"
            ]
          },
          "execution_count": 46,
          "metadata": {},
          "output_type": "execute_result"
        }
      ],
      "source": [
        "ragas"
      ]
    },
    {
      "cell_type": "code",
      "execution_count": null,
      "metadata": {
        "id": "t2zsfSvGLnH1"
      },
      "outputs": [],
      "source": [
        "columns=['filename','rmse','chroma_stft','spec_cent','spec_bw','rolloff','zcr', 'chroma_cqt', 'chroma_cens', 'pitch', 'magnitude', 'mfcc0','mfcc1','mfcc2','mfcc3','mfcc4','mfcc5','mfcc6','mfcc7','mfcc8','mfcc9','mfcc10','mfcc11','mfcc12','mfcc13','mfcc14','mfcc15','mfcc16','mfcc17','mfcc18','mfcc19','raga']\n",
        "dataset=pd.DataFrame(columns=columns)\n",
        "ragas=os.listdir('/content/drive/MyDrive/Audio_data_batch_two_tenragas/')\n",
        "for raga in ragas:\n",
        "  path = '/content/drive/MyDrive/Audio_data_batch_two_tenragas/'+raga\n",
        "  music=os.listdir(path)\n",
        "  for name in music:\n",
        "     vocals=path+'/'+name\n",
        "     songname=vocals\n",
        "     filename=name\n",
        "     y, sr = librosa.load(songname, mono=True)\n",
        "     dur = librosa.get_duration(y=y, sr=sr)\n",
        "     off=0\n",
        "\n",
        "     if dur > 300:\n",
        "        for i in range(60):\n",
        "          x, sr = librosa.load(songname, mono=True,offset=off,duration=5)\n",
        "          rmse = librosa.feature.rms(y=x)[0]\n",
        "          chroma_stft = librosa.feature.chroma_stft(y=x, sr=sr)\n",
        "          spec_cent = librosa.feature.spectral_centroid(y=x, sr=sr)\n",
        "          spec_bw = librosa.feature.spectral_bandwidth(y=x, sr=sr)\n",
        "          rolloff = librosa.feature.spectral_rolloff(y=x, sr=sr)\n",
        "          zcr = librosa.feature.zero_crossing_rate(x)\n",
        "          chroma_cqt = librosa.feature.chroma_cqt(y=x, sr=sr)\n",
        "          chroma_cens = librosa.feature.chroma_cens(x, sr=sr)\n",
        "          pitch, magnitude = librosa.piptrack(y=x, sr=sr)\n",
        "          mfcc = librosa.feature.mfcc(y=x, sr=sr)\n",
        "          filename = name+'-'+str(i+1)\n",
        "          data=[filename,np.mean(rmse),np.mean(chroma_stft),np.mean(spec_cent),np.mean(spec_bw),np.mean(rolloff),np.mean(zcr), np.mean(chroma_cqt), np.mean(chroma_cens), np.mean(pitch), np.mean(magnitude), np.mean(mfcc[0]),np.mean(mfcc[1]),np.mean(mfcc[2]),np.mean(mfcc[3]),np.mean(mfcc[4]),np.mean(mfcc[5]),np.mean(mfcc[6]),np.mean(mfcc[7]),np.mean(mfcc[8]),np.mean(mfcc[9]),np.mean(mfcc[10]),np.mean(mfcc[11]),np.mean(mfcc[12]),np.mean(mfcc[13]),np.mean(mfcc[14]),np.mean(mfcc[15]),np.mean(mfcc[16]),np.mean(mfcc[17]),np.mean(mfcc[18]),np.mean(mfcc[19]),raga]\n",
        "          dataseries = pd.Series(data, index = dataset.columns)\n",
        "          dataset = dataset.append(dataseries, ignore_index=True)\n",
        "          print(filename+\" \"+raga+\" added\" + 'dur '+str(dur))\n",
        "          if i in range(0,18):\n",
        "            off=off+5\n",
        "          if i in range(18,42):\n",
        "            off=(dur/60)*i\n",
        "          if i in range(42,60):\n",
        "            off= dur - ((60-i)*5)\n",
        "\n",
        "     else:\n",
        "        for i in range(60):\n",
        "          x, sr = librosa.load(songname, mono=True,offset=off,duration=(dur/60))\n",
        "          rmse = librosa.feature.rms(y=x)[0]\n",
        "          chroma_stft = librosa.feature.chroma_stft(y=x, sr=sr)\n",
        "          spec_cent = librosa.feature.spectral_centroid(y=x, sr=sr)\n",
        "          spec_bw = librosa.feature.spectral_bandwidth(y=x, sr=sr)\n",
        "          rolloff = librosa.feature.spectral_rolloff(y=x, sr=sr)\n",
        "          zcr = librosa.feature.zero_crossing_rate(x)\n",
        "          chroma_cqt = librosa.feature.chroma_cqt(y=x, sr=sr)\n",
        "          chroma_cens = librosa.feature.chroma_cens(x, sr=sr)\n",
        "          pitch, magnitude = librosa.piptrack(y=x, sr=sr)\n",
        "          mfcc = librosa.feature.mfcc(y=x, sr=sr)\n",
        "          filename = name+'-'+str(i+1)\n",
        "          data=[filename,np.mean(rmse),np.mean(chroma_stft),np.mean(spec_cent),np.mean(spec_bw),np.mean(rolloff),np.mean(zcr), np.mean(chroma_cqt), np.mean(chroma_cens), np.mean(pitch), np.mean(magnitude), np.mean(mfcc[0]),np.mean(mfcc[1]),np.mean(mfcc[2]),np.mean(mfcc[3]),np.mean(mfcc[4]),np.mean(mfcc[5]),np.mean(mfcc[6]),np.mean(mfcc[7]),np.mean(mfcc[8]),np.mean(mfcc[9]),np.mean(mfcc[10]),np.mean(mfcc[11]),np.mean(mfcc[12]),np.mean(mfcc[13]),np.mean(mfcc[14]),np.mean(mfcc[15]),np.mean(mfcc[16]),np.mean(mfcc[17]),np.mean(mfcc[18]),np.mean(mfcc[19]),raga]\n",
        "          dataseries = pd.Series(data, index = dataset.columns)\n",
        "          dataset = dataset.append(dataseries, ignore_index=True)\n",
        "          print(filename+\" \"+raga+\" added(small)\"+'dur '+str(dur))\n",
        "          off=(dur/60)*(i)\n"
      ]
    },
    {
      "cell_type": "code",
      "execution_count": null,
      "metadata": {
        "id": "lJIDe8hJXCvJ"
      },
      "outputs": [],
      "source": [
        "dataset.to_csv('/content/drive/MyDrive/dataset_numerical.csv')"
      ]
    },
    {
      "cell_type": "code",
      "execution_count": null,
      "metadata": {
        "id": "oLIblJICXgBD"
      },
      "outputs": [],
      "source": [
        "dataset = pd.read_csv('/content/drive/MyDrive/dataset_numerical.csv')"
      ]
    },
    {
      "cell_type": "code",
      "execution_count": null,
      "metadata": {
        "colab": {
          "base_uri": "https://localhost:8080/",
          "height": 488
        },
        "id": "C_PphcIbxboM",
        "outputId": "7b10a68c-93bc-40ec-a4fb-7e3abffb219c"
      },
      "outputs": [
        {
          "data": {
            "text/html": [
              "\n",
              "  <div id=\"df-2392f880-a788-49ca-9c71-2f804316d966\">\n",
              "    <div class=\"colab-df-container\">\n",
              "      <div>\n",
              "<style scoped>\n",
              "    .dataframe tbody tr th:only-of-type {\n",
              "        vertical-align: middle;\n",
              "    }\n",
              "\n",
              "    .dataframe tbody tr th {\n",
              "        vertical-align: top;\n",
              "    }\n",
              "\n",
              "    .dataframe thead th {\n",
              "        text-align: right;\n",
              "    }\n",
              "</style>\n",
              "<table border=\"1\" class=\"dataframe\">\n",
              "  <thead>\n",
              "    <tr style=\"text-align: right;\">\n",
              "      <th></th>\n",
              "      <th>rmse</th>\n",
              "      <th>chroma_stft</th>\n",
              "      <th>spec_cent</th>\n",
              "      <th>spec_bw</th>\n",
              "      <th>rolloff</th>\n",
              "      <th>zcr</th>\n",
              "      <th>chroma_cqt</th>\n",
              "      <th>chroma_cens</th>\n",
              "      <th>pitch</th>\n",
              "      <th>magnitude</th>\n",
              "      <th>...</th>\n",
              "      <th>mfcc11</th>\n",
              "      <th>mfcc12</th>\n",
              "      <th>mfcc13</th>\n",
              "      <th>mfcc14</th>\n",
              "      <th>mfcc15</th>\n",
              "      <th>mfcc16</th>\n",
              "      <th>mfcc17</th>\n",
              "      <th>mfcc18</th>\n",
              "      <th>mfcc19</th>\n",
              "      <th>raga</th>\n",
              "    </tr>\n",
              "  </thead>\n",
              "  <tbody>\n",
              "    <tr>\n",
              "      <th>0</th>\n",
              "      <td>0.057366</td>\n",
              "      <td>0.356611</td>\n",
              "      <td>2183.682133</td>\n",
              "      <td>1780.648831</td>\n",
              "      <td>3986.282466</td>\n",
              "      <td>0.140616</td>\n",
              "      <td>0.492778</td>\n",
              "      <td>0.256367</td>\n",
              "      <td>44.478590</td>\n",
              "      <td>0.153732</td>\n",
              "      <td>...</td>\n",
              "      <td>-1.733105</td>\n",
              "      <td>-16.346844</td>\n",
              "      <td>0.874510</td>\n",
              "      <td>-13.704234</td>\n",
              "      <td>2.395827</td>\n",
              "      <td>-7.479352</td>\n",
              "      <td>4.306929</td>\n",
              "      <td>-3.065522</td>\n",
              "      <td>1.189445</td>\n",
              "      <td>Atana</td>\n",
              "    </tr>\n",
              "    <tr>\n",
              "      <th>1</th>\n",
              "      <td>0.057366</td>\n",
              "      <td>0.356611</td>\n",
              "      <td>2183.682133</td>\n",
              "      <td>1780.648831</td>\n",
              "      <td>3986.282466</td>\n",
              "      <td>0.140616</td>\n",
              "      <td>0.492778</td>\n",
              "      <td>0.256367</td>\n",
              "      <td>44.478590</td>\n",
              "      <td>0.153732</td>\n",
              "      <td>...</td>\n",
              "      <td>-1.733105</td>\n",
              "      <td>-16.346844</td>\n",
              "      <td>0.874510</td>\n",
              "      <td>-13.704234</td>\n",
              "      <td>2.395827</td>\n",
              "      <td>-7.479352</td>\n",
              "      <td>4.306929</td>\n",
              "      <td>-3.065522</td>\n",
              "      <td>1.189445</td>\n",
              "      <td>Atana</td>\n",
              "    </tr>\n",
              "    <tr>\n",
              "      <th>2</th>\n",
              "      <td>0.045101</td>\n",
              "      <td>0.335154</td>\n",
              "      <td>2191.948609</td>\n",
              "      <td>1882.385940</td>\n",
              "      <td>4128.681124</td>\n",
              "      <td>0.121385</td>\n",
              "      <td>0.502560</td>\n",
              "      <td>0.258486</td>\n",
              "      <td>51.529694</td>\n",
              "      <td>0.124144</td>\n",
              "      <td>...</td>\n",
              "      <td>-2.906332</td>\n",
              "      <td>-19.232302</td>\n",
              "      <td>2.644198</td>\n",
              "      <td>-8.861922</td>\n",
              "      <td>4.111287</td>\n",
              "      <td>-8.656278</td>\n",
              "      <td>1.130446</td>\n",
              "      <td>-5.798039</td>\n",
              "      <td>4.454081</td>\n",
              "      <td>Atana</td>\n",
              "    </tr>\n",
              "    <tr>\n",
              "      <th>3</th>\n",
              "      <td>0.050455</td>\n",
              "      <td>0.326019</td>\n",
              "      <td>2290.723664</td>\n",
              "      <td>2029.661187</td>\n",
              "      <td>4393.032250</td>\n",
              "      <td>0.113223</td>\n",
              "      <td>0.463401</td>\n",
              "      <td>0.249078</td>\n",
              "      <td>42.827540</td>\n",
              "      <td>0.116326</td>\n",
              "      <td>...</td>\n",
              "      <td>-2.749416</td>\n",
              "      <td>-16.497883</td>\n",
              "      <td>5.133832</td>\n",
              "      <td>-4.118744</td>\n",
              "      <td>2.058335</td>\n",
              "      <td>-8.573431</td>\n",
              "      <td>2.562922</td>\n",
              "      <td>-6.766419</td>\n",
              "      <td>5.567653</td>\n",
              "      <td>Atana</td>\n",
              "    </tr>\n",
              "    <tr>\n",
              "      <th>4</th>\n",
              "      <td>0.057464</td>\n",
              "      <td>0.326608</td>\n",
              "      <td>2087.394416</td>\n",
              "      <td>1960.729518</td>\n",
              "      <td>4017.391733</td>\n",
              "      <td>0.104619</td>\n",
              "      <td>0.454887</td>\n",
              "      <td>0.255232</td>\n",
              "      <td>38.608948</td>\n",
              "      <td>0.129651</td>\n",
              "      <td>...</td>\n",
              "      <td>-5.762924</td>\n",
              "      <td>-17.382010</td>\n",
              "      <td>2.135570</td>\n",
              "      <td>-6.119337</td>\n",
              "      <td>-0.078345</td>\n",
              "      <td>-7.636397</td>\n",
              "      <td>0.175586</td>\n",
              "      <td>-7.397060</td>\n",
              "      <td>3.225068</td>\n",
              "      <td>Atana</td>\n",
              "    </tr>\n",
              "    <tr>\n",
              "      <th>...</th>\n",
              "      <td>...</td>\n",
              "      <td>...</td>\n",
              "      <td>...</td>\n",
              "      <td>...</td>\n",
              "      <td>...</td>\n",
              "      <td>...</td>\n",
              "      <td>...</td>\n",
              "      <td>...</td>\n",
              "      <td>...</td>\n",
              "      <td>...</td>\n",
              "      <td>...</td>\n",
              "      <td>...</td>\n",
              "      <td>...</td>\n",
              "      <td>...</td>\n",
              "      <td>...</td>\n",
              "      <td>...</td>\n",
              "      <td>...</td>\n",
              "      <td>...</td>\n",
              "      <td>...</td>\n",
              "      <td>...</td>\n",
              "      <td>...</td>\n",
              "    </tr>\n",
              "    <tr>\n",
              "      <th>7015</th>\n",
              "      <td>0.097432</td>\n",
              "      <td>0.317149</td>\n",
              "      <td>1754.602958</td>\n",
              "      <td>1918.453709</td>\n",
              "      <td>3433.947754</td>\n",
              "      <td>0.084606</td>\n",
              "      <td>0.490674</td>\n",
              "      <td>0.267046</td>\n",
              "      <td>28.553642</td>\n",
              "      <td>0.196119</td>\n",
              "      <td>...</td>\n",
              "      <td>0.740640</td>\n",
              "      <td>-5.377279</td>\n",
              "      <td>3.935313</td>\n",
              "      <td>-4.054419</td>\n",
              "      <td>4.189030</td>\n",
              "      <td>-9.741838</td>\n",
              "      <td>5.253448</td>\n",
              "      <td>-5.747349</td>\n",
              "      <td>9.262256</td>\n",
              "      <td>Kamas</td>\n",
              "    </tr>\n",
              "    <tr>\n",
              "      <th>7016</th>\n",
              "      <td>0.097974</td>\n",
              "      <td>0.321211</td>\n",
              "      <td>1647.816602</td>\n",
              "      <td>1869.809375</td>\n",
              "      <td>3287.352498</td>\n",
              "      <td>0.070005</td>\n",
              "      <td>0.516645</td>\n",
              "      <td>0.263180</td>\n",
              "      <td>18.540722</td>\n",
              "      <td>0.155699</td>\n",
              "      <td>...</td>\n",
              "      <td>3.695419</td>\n",
              "      <td>-2.310949</td>\n",
              "      <td>3.914522</td>\n",
              "      <td>-6.962498</td>\n",
              "      <td>8.161569</td>\n",
              "      <td>-9.814953</td>\n",
              "      <td>6.194836</td>\n",
              "      <td>-0.395112</td>\n",
              "      <td>7.832188</td>\n",
              "      <td>Kamas</td>\n",
              "    </tr>\n",
              "    <tr>\n",
              "      <th>7017</th>\n",
              "      <td>0.114012</td>\n",
              "      <td>0.274262</td>\n",
              "      <td>1603.899649</td>\n",
              "      <td>1880.668749</td>\n",
              "      <td>3205.107625</td>\n",
              "      <td>0.066210</td>\n",
              "      <td>0.464219</td>\n",
              "      <td>0.259386</td>\n",
              "      <td>14.860678</td>\n",
              "      <td>0.176293</td>\n",
              "      <td>...</td>\n",
              "      <td>-2.232171</td>\n",
              "      <td>-6.254406</td>\n",
              "      <td>5.547446</td>\n",
              "      <td>-7.962134</td>\n",
              "      <td>5.380286</td>\n",
              "      <td>-6.550309</td>\n",
              "      <td>5.086761</td>\n",
              "      <td>-2.658207</td>\n",
              "      <td>7.786462</td>\n",
              "      <td>Kamas</td>\n",
              "    </tr>\n",
              "    <tr>\n",
              "      <th>7018</th>\n",
              "      <td>0.087043</td>\n",
              "      <td>0.287376</td>\n",
              "      <td>1511.516391</td>\n",
              "      <td>1845.574030</td>\n",
              "      <td>2879.019165</td>\n",
              "      <td>0.061951</td>\n",
              "      <td>0.394952</td>\n",
              "      <td>0.240729</td>\n",
              "      <td>14.829134</td>\n",
              "      <td>0.159679</td>\n",
              "      <td>...</td>\n",
              "      <td>1.461459</td>\n",
              "      <td>-6.077775</td>\n",
              "      <td>4.192875</td>\n",
              "      <td>-8.894011</td>\n",
              "      <td>3.227394</td>\n",
              "      <td>-7.180505</td>\n",
              "      <td>2.713308</td>\n",
              "      <td>-6.913095</td>\n",
              "      <td>3.807134</td>\n",
              "      <td>Kamas</td>\n",
              "    </tr>\n",
              "    <tr>\n",
              "      <th>7019</th>\n",
              "      <td>0.108709</td>\n",
              "      <td>0.320417</td>\n",
              "      <td>1500.577690</td>\n",
              "      <td>1901.631296</td>\n",
              "      <td>2973.974609</td>\n",
              "      <td>0.056193</td>\n",
              "      <td>0.522998</td>\n",
              "      <td>0.265657</td>\n",
              "      <td>13.877817</td>\n",
              "      <td>0.164787</td>\n",
              "      <td>...</td>\n",
              "      <td>3.975324</td>\n",
              "      <td>-5.168192</td>\n",
              "      <td>4.470476</td>\n",
              "      <td>-9.050338</td>\n",
              "      <td>2.136064</td>\n",
              "      <td>-5.788785</td>\n",
              "      <td>6.406958</td>\n",
              "      <td>-3.495833</td>\n",
              "      <td>6.377991</td>\n",
              "      <td>Kamas</td>\n",
              "    </tr>\n",
              "  </tbody>\n",
              "</table>\n",
              "<p>7020 rows × 31 columns</p>\n",
              "</div>\n",
              "      <button class=\"colab-df-convert\" onclick=\"convertToInteractive('df-2392f880-a788-49ca-9c71-2f804316d966')\"\n",
              "              title=\"Convert this dataframe to an interactive table.\"\n",
              "              style=\"display:none;\">\n",
              "        \n",
              "  <svg xmlns=\"http://www.w3.org/2000/svg\" height=\"24px\"viewBox=\"0 0 24 24\"\n",
              "       width=\"24px\">\n",
              "    <path d=\"M0 0h24v24H0V0z\" fill=\"none\"/>\n",
              "    <path d=\"M18.56 5.44l.94 2.06.94-2.06 2.06-.94-2.06-.94-.94-2.06-.94 2.06-2.06.94zm-11 1L8.5 8.5l.94-2.06 2.06-.94-2.06-.94L8.5 2.5l-.94 2.06-2.06.94zm10 10l.94 2.06.94-2.06 2.06-.94-2.06-.94-.94-2.06-.94 2.06-2.06.94z\"/><path d=\"M17.41 7.96l-1.37-1.37c-.4-.4-.92-.59-1.43-.59-.52 0-1.04.2-1.43.59L10.3 9.45l-7.72 7.72c-.78.78-.78 2.05 0 2.83L4 21.41c.39.39.9.59 1.41.59.51 0 1.02-.2 1.41-.59l7.78-7.78 2.81-2.81c.8-.78.8-2.07 0-2.86zM5.41 20L4 18.59l7.72-7.72 1.47 1.35L5.41 20z\"/>\n",
              "  </svg>\n",
              "      </button>\n",
              "      \n",
              "  <style>\n",
              "    .colab-df-container {\n",
              "      display:flex;\n",
              "      flex-wrap:wrap;\n",
              "      gap: 12px;\n",
              "    }\n",
              "\n",
              "    .colab-df-convert {\n",
              "      background-color: #E8F0FE;\n",
              "      border: none;\n",
              "      border-radius: 50%;\n",
              "      cursor: pointer;\n",
              "      display: none;\n",
              "      fill: #1967D2;\n",
              "      height: 32px;\n",
              "      padding: 0 0 0 0;\n",
              "      width: 32px;\n",
              "    }\n",
              "\n",
              "    .colab-df-convert:hover {\n",
              "      background-color: #E2EBFA;\n",
              "      box-shadow: 0px 1px 2px rgba(60, 64, 67, 0.3), 0px 1px 3px 1px rgba(60, 64, 67, 0.15);\n",
              "      fill: #174EA6;\n",
              "    }\n",
              "\n",
              "    [theme=dark] .colab-df-convert {\n",
              "      background-color: #3B4455;\n",
              "      fill: #D2E3FC;\n",
              "    }\n",
              "\n",
              "    [theme=dark] .colab-df-convert:hover {\n",
              "      background-color: #434B5C;\n",
              "      box-shadow: 0px 1px 3px 1px rgba(0, 0, 0, 0.15);\n",
              "      filter: drop-shadow(0px 1px 2px rgba(0, 0, 0, 0.3));\n",
              "      fill: #FFFFFF;\n",
              "    }\n",
              "  </style>\n",
              "\n",
              "      <script>\n",
              "        const buttonEl =\n",
              "          document.querySelector('#df-2392f880-a788-49ca-9c71-2f804316d966 button.colab-df-convert');\n",
              "        buttonEl.style.display =\n",
              "          google.colab.kernel.accessAllowed ? 'block' : 'none';\n",
              "\n",
              "        async function convertToInteractive(key) {\n",
              "          const element = document.querySelector('#df-2392f880-a788-49ca-9c71-2f804316d966');\n",
              "          const dataTable =\n",
              "            await google.colab.kernel.invokeFunction('convertToInteractive',\n",
              "                                                     [key], {});\n",
              "          if (!dataTable) return;\n",
              "\n",
              "          const docLinkHtml = 'Like what you see? Visit the ' +\n",
              "            '<a target=\"_blank\" href=https://colab.research.google.com/notebooks/data_table.ipynb>data table notebook</a>'\n",
              "            + ' to learn more about interactive tables.';\n",
              "          element.innerHTML = '';\n",
              "          dataTable['output_type'] = 'display_data';\n",
              "          await google.colab.output.renderOutput(dataTable, element);\n",
              "          const docLink = document.createElement('div');\n",
              "          docLink.innerHTML = docLinkHtml;\n",
              "          element.appendChild(docLink);\n",
              "        }\n",
              "      </script>\n",
              "    </div>\n",
              "  </div>\n",
              "  "
            ],
            "text/plain": [
              "          rmse  chroma_stft    spec_cent      spec_bw      rolloff       zcr  \\\n",
              "0     0.057366     0.356611  2183.682133  1780.648831  3986.282466  0.140616   \n",
              "1     0.057366     0.356611  2183.682133  1780.648831  3986.282466  0.140616   \n",
              "2     0.045101     0.335154  2191.948609  1882.385940  4128.681124  0.121385   \n",
              "3     0.050455     0.326019  2290.723664  2029.661187  4393.032250  0.113223   \n",
              "4     0.057464     0.326608  2087.394416  1960.729518  4017.391733  0.104619   \n",
              "...        ...          ...          ...          ...          ...       ...   \n",
              "7015  0.097432     0.317149  1754.602958  1918.453709  3433.947754  0.084606   \n",
              "7016  0.097974     0.321211  1647.816602  1869.809375  3287.352498  0.070005   \n",
              "7017  0.114012     0.274262  1603.899649  1880.668749  3205.107625  0.066210   \n",
              "7018  0.087043     0.287376  1511.516391  1845.574030  2879.019165  0.061951   \n",
              "7019  0.108709     0.320417  1500.577690  1901.631296  2973.974609  0.056193   \n",
              "\n",
              "      chroma_cqt  chroma_cens      pitch  magnitude  ...    mfcc11     mfcc12  \\\n",
              "0       0.492778     0.256367  44.478590   0.153732  ... -1.733105 -16.346844   \n",
              "1       0.492778     0.256367  44.478590   0.153732  ... -1.733105 -16.346844   \n",
              "2       0.502560     0.258486  51.529694   0.124144  ... -2.906332 -19.232302   \n",
              "3       0.463401     0.249078  42.827540   0.116326  ... -2.749416 -16.497883   \n",
              "4       0.454887     0.255232  38.608948   0.129651  ... -5.762924 -17.382010   \n",
              "...          ...          ...        ...        ...  ...       ...        ...   \n",
              "7015    0.490674     0.267046  28.553642   0.196119  ...  0.740640  -5.377279   \n",
              "7016    0.516645     0.263180  18.540722   0.155699  ...  3.695419  -2.310949   \n",
              "7017    0.464219     0.259386  14.860678   0.176293  ... -2.232171  -6.254406   \n",
              "7018    0.394952     0.240729  14.829134   0.159679  ...  1.461459  -6.077775   \n",
              "7019    0.522998     0.265657  13.877817   0.164787  ...  3.975324  -5.168192   \n",
              "\n",
              "        mfcc13     mfcc14    mfcc15    mfcc16    mfcc17    mfcc18    mfcc19  \\\n",
              "0     0.874510 -13.704234  2.395827 -7.479352  4.306929 -3.065522  1.189445   \n",
              "1     0.874510 -13.704234  2.395827 -7.479352  4.306929 -3.065522  1.189445   \n",
              "2     2.644198  -8.861922  4.111287 -8.656278  1.130446 -5.798039  4.454081   \n",
              "3     5.133832  -4.118744  2.058335 -8.573431  2.562922 -6.766419  5.567653   \n",
              "4     2.135570  -6.119337 -0.078345 -7.636397  0.175586 -7.397060  3.225068   \n",
              "...        ...        ...       ...       ...       ...       ...       ...   \n",
              "7015  3.935313  -4.054419  4.189030 -9.741838  5.253448 -5.747349  9.262256   \n",
              "7016  3.914522  -6.962498  8.161569 -9.814953  6.194836 -0.395112  7.832188   \n",
              "7017  5.547446  -7.962134  5.380286 -6.550309  5.086761 -2.658207  7.786462   \n",
              "7018  4.192875  -8.894011  3.227394 -7.180505  2.713308 -6.913095  3.807134   \n",
              "7019  4.470476  -9.050338  2.136064 -5.788785  6.406958 -3.495833  6.377991   \n",
              "\n",
              "       raga  \n",
              "0     Atana  \n",
              "1     Atana  \n",
              "2     Atana  \n",
              "3     Atana  \n",
              "4     Atana  \n",
              "...     ...  \n",
              "7015  Kamas  \n",
              "7016  Kamas  \n",
              "7017  Kamas  \n",
              "7018  Kamas  \n",
              "7019  Kamas  \n",
              "\n",
              "[7020 rows x 31 columns]"
            ]
          },
          "execution_count": 4,
          "metadata": {},
          "output_type": "execute_result"
        }
      ],
      "source": [
        "dataset = dataset.iloc[:,1:]\n",
        "dataset"
      ]
    },
    {
      "cell_type": "code",
      "execution_count": null,
      "metadata": {
        "id": "_8Sxdg0ysyVK"
      },
      "outputs": [],
      "source": [
        "raga_list = dataset.iloc[:, -1]\n",
        "encoder = LabelEncoder()\n",
        "Y = encoder.fit_transform(raga_list)\n",
        "#Scaling the Feature columns\n",
        "scaler = StandardScaler()\n",
        "X = scaler.fit_transform(np.array(dataset.iloc[:, :-1], dtype = float))"
      ]
    },
    {
      "cell_type": "markdown",
      "metadata": {
        "id": "ZPQ1Cct_pxgd"
      },
      "source": [
        "# 1D CNN\n"
      ]
    },
    {
      "cell_type": "code",
      "execution_count": null,
      "metadata": {
        "id": "Xhfg0Tx83sZK"
      },
      "outputs": [],
      "source": [
        "X_train, X_test, y_train, y_test = train_test_split(X, Y, test_size=0.1)\n",
        "X_train = np.reshape(X_train, (X_train.shape[0], 1, X_train.shape[1]))\n",
        "X_test = np.reshape(X_test, (X_test.shape[0], 1, X_test.shape[1]))\n",
        "input_shape = (X_train.shape[1], X_train.shape[2])"
      ]
    },
    {
      "cell_type": "code",
      "execution_count": null,
      "metadata": {
        "id": "ml6RN6M6wLlg"
      },
      "outputs": [],
      "source": [
        "model = tf.keras.Sequential()\n",
        "model.add(layers.Conv1D(128,3, activation = \"relu\",padding = 'same', input_shape=input_shape))\n",
        "model.add(tf.keras.layers.BatchNormalization())\n",
        "model.add(layers.Conv1D(256,3,activation = 'relu',padding = 'same'))\n",
        "model.add(tf.keras.layers.BatchNormalization())\n",
        "model.add(layers.Conv1D(512,3,activation = 'relu',padding = 'same'))\n",
        "model.add(tf.keras.layers.BatchNormalization())\n",
        "model.add(layers.Flatten())\n",
        "model.add(layers.Dropout(0.5))\n",
        "model.add(layers.Dense(512,activation = 'relu'))\n",
        "model.add(layers.Dense(256,activation = 'relu'))\n",
        "model.add(layers.Dense(128,activation = 'relu'))\n",
        "model.add(layers.Dense(64,activation = 'relu'))\n",
        "model.add(layers.Dense(10,activation = 'softmax'))\n",
        "model.summary()"
      ]
    },
    {
      "cell_type": "code",
      "execution_count": null,
      "metadata": {
        "id": "Wf4wl98CwZfP"
      },
      "outputs": [],
      "source": [
        "model.compile(optimizer=keras.optimizers.Adam(),\n",
        "              loss='sparse_categorical_crossentropy',\n",
        "              metrics=['accuracy'])\n",
        "bs = 32"
      ]
    },
    {
      "cell_type": "code",
      "execution_count": null,
      "metadata": {
        "id": "sEgqrx_VwfYe"
      },
      "outputs": [],
      "source": [
        "# Early Stopping\n",
        "early_stopping_callback = tf.keras.callbacks.EarlyStopping(\n",
        "    monitor=\"val_loss\",\n",
        "    min_delta=0,\n",
        "    patience=10,\n",
        "    verbose=0,\n",
        "    mode=\"auto\",\n",
        "    baseline=None,\n",
        "    restore_best_weights=True,\n",
        ")\n",
        "classifier = model.fit(X_train,\n",
        "                       y_train,\n",
        "                       callbacks = [early_stopping_callback],\n",
        "                       batch_size = bs,\n",
        "                       epochs=100, \n",
        "                       validation_data=(X_test,y_test)\n",
        "                       )"
      ]
    },
    {
      "cell_type": "code",
      "execution_count": null,
      "metadata": {
        "id": "761-84OamC7q"
      },
      "outputs": [],
      "source": [
        "Y_pred_cnn = model.predict(X_test)"
      ]
    },
    {
      "cell_type": "code",
      "execution_count": null,
      "metadata": {
        "id": "F0sfmgt_yPLJ"
      },
      "outputs": [],
      "source": [
        "np.save('/content/drive/MyDrive/Y_pred_cnn2.npy', Y_pred_cnn)\n",
        "np.save('/content/drive/MyDrive/Y_test_cnn2.npy', y_test)"
      ]
    },
    {
      "cell_type": "code",
      "execution_count": null,
      "metadata": {
        "id": "nmfErK4zmRuq"
      },
      "outputs": [],
      "source": [
        "Y_pred_cnn = tf.math.argmax(Y_pred_cnn, axis=1)"
      ]
    },
    {
      "cell_type": "code",
      "execution_count": null,
      "metadata": {
        "id": "eK6-JRI8jV14"
      },
      "outputs": [],
      "source": [
        "Y_pred_cnn = np.load('/content/drive/MyDrive/Y_pred_cnn2.npy')\n",
        "Y_test_cnn = np.load('/content/drive/MyDrive/Y_test_cnn2.npy')"
      ]
    },
    {
      "cell_type": "code",
      "execution_count": null,
      "metadata": {
        "id": "aS6SjVP_N0BR"
      },
      "outputs": [],
      "source": [
        "import pandas as pd\n",
        "Y_pred_cnn = pd.DataFrame(Y_pred_cnn)\n",
        "Y_test_cnn = pd.DataFrame(Y_test_cnn)\n",
        "Y_pred_cnn.columns = ['predicted']\n",
        "Y_test_cnn.columns = ['true']"
      ]
    },
    {
      "cell_type": "code",
      "execution_count": null,
      "metadata": {
        "id": "1XIEORFNjphh"
      },
      "outputs": [],
      "source": [
        "cm_cnn = pd.crosstab(Y_pred_cnn['predicted'], Y_test_cnn['true'])"
      ]
    },
    {
      "cell_type": "code",
      "execution_count": null,
      "metadata": {
        "colab": {
          "base_uri": "https://localhost:8080/",
          "height": 300
        },
        "id": "1COtYIHHlGiM",
        "outputId": "1ba08b68-9b1f-4349-8330-25697b76d652"
      },
      "outputs": [
        {
          "data": {
            "text/plain": [
              "<matplotlib.axes._subplots.AxesSubplot at 0x7f9599b6c310>"
            ]
          },
          "execution_count": 8,
          "metadata": {},
          "output_type": "execute_result"
        },
        {
          "data": {
            "image/png": "[encoded data removed]",
            "text/plain": [
              "<Figure size 720x288 with 2 Axes>"
            ]
          },
          "metadata": {
            "needs_background": "light"
          },
          "output_type": "display_data"
        }
      ],
      "source": [
        "import seaborn as sn\n",
        "fig = plt.figure(figsize = (10, 4))\n",
        "ax1 = plt.subplot(121)\n",
        "sn.heatmap(cm_cnn, annot= True, cmap= 'Blues')"
      ]
    },
    {
      "cell_type": "markdown",
      "metadata": {
        "id": "T73KTm7qp9LH"
      },
      "source": [
        "# LSTM\n"
      ]
    },
    {
      "cell_type": "code",
      "execution_count": null,
      "metadata": {
        "id": "tBMVmxw9tcbN"
      },
      "outputs": [],
      "source": [
        "X_train, X_test, y_train, y_test = train_test_split(X, Y, test_size=0.1)\n",
        "X_train = np.reshape(X_train, (X_train.shape[0], 1, X_train.shape[1]))\n",
        "X_test = np.reshape(X_test, (X_test.shape[0], 1, X_test.shape[1]))\n",
        "input_shape = (X_train.shape[1], X_train.shape[2])"
      ]
    },
    {
      "cell_type": "code",
      "execution_count": null,
      "metadata": {
        "id": "0IXmOTrD7fAt"
      },
      "outputs": [],
      "source": [
        "model = tf.keras.Sequential()\n",
        "adam1 = Adam(learning_rate=0.0009)\n",
        "model.add(LSTM(units=128, dropout=0.05, recurrent_dropout=0.25, return_sequences=True,input_shape=input_shape))\n",
        "model.add(LSTM(units=64,  dropout=0.05, recurrent_dropout=0.25, return_sequences=True))\n",
        "model.add(Flatten())\n",
        "model.add(Dense(units=10, activation=\"softmax\"))"
      ]
    },
    {
      "cell_type": "code",
      "execution_count": null,
      "metadata": {
        "colab": {
          "base_uri": "https://localhost:8080/"
        },
        "id": "YyEhhi09858N",
        "outputId": "ca65298d-57b4-4923-f179-960fb7496c95"
      },
      "outputs": [
        {
          "name": "stdout",
          "output_type": "stream",
          "text": [
            "Model: \"sequential_1\"\n",
            "_________________________________________________________________\n",
            " Layer (type)                Output Shape              Param #   \n",
            "=================================================================\n",
            " lstm (LSTM)                 (None, 1, 128)            81408     \n",
            "                                                                 \n",
            " lstm_1 (LSTM)               (None, 1, 64)             49408     \n",
            "                                                                 \n",
            " flatten_1 (Flatten)         (None, 64)                0         \n",
            "                                                                 \n",
            " dense_5 (Dense)             (None, 10)                650       \n",
            "                                                                 \n",
            "=================================================================\n",
            "Total params: 131,466\n",
            "Trainable params: 131,466\n",
            "Non-trainable params: 0\n",
            "_________________________________________________________________\n"
          ]
        }
      ],
      "source": [
        "model.compile(loss=\"sparse_categorical_crossentropy\", optimizer=adam1, metrics=[\"accuracy\"],)\n",
        "model.summary()\n",
        "\n",
        "bs= 32"
      ]
    },
    {
      "cell_type": "code",
      "execution_count": null,
      "metadata": {
        "id": "L0ahK7SF80dD"
      },
      "outputs": [],
      "source": [
        "# Early Stopping\n",
        "early_stopping_callback = tf.keras.callbacks.EarlyStopping(\n",
        "    monitor=\"val_loss\",\n",
        "    min_delta=0,\n",
        "    patience=10,\n",
        "    verbose=0,\n",
        "    mode=\"auto\",\n",
        "    baseline=None,\n",
        "    restore_best_weights=True,\n",
        ")\n",
        "classifier = model.fit(X_train,\n",
        "                       y_train,\n",
        "                       callbacks = [early_stopping_callback],\n",
        "                       batch_size = bs,\n",
        "                       epochs=100, \n",
        "                       validation_data=(X_test,y_test)\n",
        "                       )"
      ]
    },
    {
      "cell_type": "code",
      "execution_count": null,
      "metadata": {
        "colab": {
          "base_uri": "https://localhost:8080/"
        },
        "id": "GNUtVr--_Y6z",
        "outputId": "5c86cc23-c5f2-42bb-c175-df8bcf39480a"
      },
      "outputs": [
        {
          "name": "stdout",
          "output_type": "stream",
          "text": [
            "22/22 [==============================] - 0s 2ms/step\n"
          ]
        }
      ],
      "source": [
        "Y_pred_lstm = model.predict(X_test)"
      ]
    },
    {
      "cell_type": "code",
      "execution_count": null,
      "metadata": {
        "id": "LFdugB30qZMr"
      },
      "outputs": [],
      "source": [
        "Y_pred_lstm = np.load('/content/drive/MyDrive/Y_pred_lstm.npy')\n",
        "Y_test_lstm = np.load('/content/drive/MyDrive/Y_test_lstm.npy')"
      ]
    },
    {
      "cell_type": "code",
      "execution_count": null,
      "metadata": {
        "id": "VqoiolDFjNBi"
      },
      "outputs": [],
      "source": [
        "import pandas as pd\n",
        "Y_pred_lstm = tf.math.argmax(Y_pred_lstm, axis=1)\n",
        "Y_pred_lstm = pd.DataFrame(Y_pred_lstm)\n",
        "Y_test_lstm = pd.DataFrame(Y_test_lstm)\n",
        "Y_pred_lstm.columns = ['predicted']\n",
        "Y_test_lstm.columns = ['true']"
      ]
    },
    {
      "cell_type": "code",
      "execution_count": null,
      "metadata": {
        "colab": {
          "base_uri": "https://localhost:8080/",
          "height": 296
        },
        "id": "1gnyj-XVc2aY",
        "outputId": "8fef2c85-02e0-40d6-9d36-1a259eeb1713"
      },
      "outputs": [
        {
          "data": {
            "text/plain": [
              "<matplotlib.axes._subplots.AxesSubplot at 0x7f0d17958c90>"
            ]
          },
          "execution_count": 28,
          "metadata": {},
          "output_type": "execute_result"
        },
        {
          "data": {
            "image/png": "[encoded data removed]",
            "text/plain": [
              "<Figure size 720x288 with 2 Axes>"
            ]
          },
          "metadata": {
            "needs_background": "light"
          },
          "output_type": "display_data"
        }
      ],
      "source": [
        "import pandas as pd\n",
        "cm_lstm = pd.crosstab(Y_pred_lstm['predicted'], Y_test_lstm['true'])\n",
        "import seaborn as sn\n",
        "fig = plt.figure(figsize = (10, 4))\n",
        "ax1 = plt.subplot(121)\n",
        "sn.heatmap(cm_lstm, annot= True, cmap= 'Blues')"
      ]
    },
    {
      "cell_type": "markdown",
      "metadata": {
        "id": "n9QTNooIvPx0"
      },
      "source": [
        "# ANN"
      ]
    },
    {
      "cell_type": "code",
      "execution_count": null,
      "metadata": {
        "id": "sfiddVUIyPrl"
      },
      "outputs": [],
      "source": [
        "X_train, X_test, y_train, y_test = train_test_split(X, Y, test_size=0.1)"
      ]
    },
    {
      "cell_type": "code",
      "execution_count": null,
      "metadata": {
        "colab": {
          "base_uri": "https://localhost:8080/"
        },
        "id": "bEisxGKZvPgD",
        "outputId": "83f73d0d-fa58-4533-dbc5-59ada7cd14f8"
      },
      "outputs": [
        {
          "name": "stdout",
          "output_type": "stream",
          "text": [
            "Model: \"sequential\"\n",
            "_________________________________________________________________\n",
            " Layer (type)                Output Shape              Param #   \n",
            "=================================================================\n",
            " dense (Dense)               (None, 512)               15872     \n",
            "                                                                 \n",
            " dense_1 (Dense)             (None, 256)               131328    \n",
            "                                                                 \n",
            " dense_2 (Dense)             (None, 128)               32896     \n",
            "                                                                 \n",
            " dense_3 (Dense)             (None, 64)                8256      \n",
            "                                                                 \n",
            " dense_4 (Dense)             (None, 10)                650       \n",
            "                                                                 \n",
            "=================================================================\n",
            "Total params: 189,002\n",
            "Trainable params: 189,002\n",
            "Non-trainable params: 0\n",
            "_________________________________________________________________\n"
          ]
        }
      ],
      "source": [
        "model = tf.keras.Sequential()\n",
        "model.add(layers.Dense(512, activation='relu', input_shape=(X_train.shape[1],)))\n",
        "model.add(layers.Dense(256, activation='relu'))\n",
        "model.add(layers.Dense(128, activation='relu'))\n",
        "model.add(layers.Dense(64, activation='relu'))\n",
        "model.add(layers.Dense(10, activation='softmax'))\n",
        "model.compile(optimizer='adam',\n",
        "              loss='sparse_categorical_crossentropy',\n",
        "              metrics=['accuracy'])\n",
        "model.summary()"
      ]
    },
    {
      "cell_type": "code",
      "execution_count": null,
      "metadata": {
        "id": "4x4n091Dvc9m"
      },
      "outputs": [],
      "source": [
        "# Early Stopping\n",
        "early_stopping_callback = tf.keras.callbacks.EarlyStopping(\n",
        "    monitor=\"val_loss\",\n",
        "    min_delta=0,\n",
        "    patience=5,\n",
        "    verbose=0,\n",
        "    mode=\"auto\",\n",
        "    baseline=None,\n",
        "    restore_best_weights=True,\n",
        ")\n",
        "classifier = model.fit(X_train,\n",
        "                       y_train,\n",
        "                       callbacks = [early_stopping_callback],\n",
        "                       batch_size = 32,\n",
        "                       epochs=100, \n",
        "                       validation_data=(X_test,y_test)\n",
        "                       )"
      ]
    },
    {
      "cell_type": "code",
      "execution_count": null,
      "metadata": {
        "colab": {
          "base_uri": "https://localhost:8080/"
        },
        "id": "mreijmHrBBiD",
        "outputId": "3f14b0b6-683f-48ed-e9b5-18ff504d8ebf"
      },
      "outputs": [
        {
          "name": "stdout",
          "output_type": "stream",
          "text": [
            "22/22 [==============================] - 0s 2ms/step\n"
          ]
        }
      ],
      "source": [
        "Y_pred_ann = model.predict(X_test)"
      ]
    },
    {
      "cell_type": "code",
      "execution_count": null,
      "metadata": {
        "id": "Ys88txffeB5G"
      },
      "outputs": [],
      "source": [
        "Y_pred_ann = np.load('/content/drive/MyDrive/Y_pred_ann.npy')\n",
        "Y_test_ann = np.load('/content/drive/MyDrive/Y_test_ann.npy')"
      ]
    },
    {
      "cell_type": "code",
      "execution_count": null,
      "metadata": {
        "id": "fD0kkVtdlv2F"
      },
      "outputs": [],
      "source": [
        "import pandas as pd\n",
        "Y_pred_ann = tf.math.argmax(Y_pred_ann, axis=1)\n",
        "Y_pred_ann = pd.DataFrame(Y_pred_ann)\n",
        "Y_test_ann = pd.DataFrame(Y_test_ann)\n",
        "Y_pred_ann.columns = ['predicted']\n",
        "Y_test_ann.columns = ['true']"
      ]
    },
    {
      "cell_type": "code",
      "execution_count": null,
      "metadata": {
        "colab": {
          "base_uri": "https://localhost:8080/",
          "height": 296
        },
        "id": "xgDWBhs6eNGm",
        "outputId": "b733ddb4-2c63-4cc8-b7a0-2f9d8c0dd9d5"
      },
      "outputs": [
        {
          "data": {
            "text/plain": [
              "<matplotlib.axes._subplots.AxesSubplot at 0x7f0d107b8190>"
            ]
          },
          "execution_count": 34,
          "metadata": {},
          "output_type": "execute_result"
        },
        {
          "data": {
            "image/png": "[encoded data removed]",
            "text/plain": [
              "<Figure size 720x288 with 2 Axes>"
            ]
          },
          "metadata": {
            "needs_background": "light"
          },
          "output_type": "display_data"
        }
      ],
      "source": [
        "cm_ann = pd.crosstab(Y_pred_ann['predicted'], Y_test_ann['true'])\n",
        "import seaborn as sn\n",
        "fig = plt.figure(figsize = (10, 4))\n",
        "ax1 = plt.subplot(121)\n",
        "sn.heatmap(cm_ann, annot= True, cmap= 'Blues')"
      ]
    }
  ],
  "metadata": {
    "colab": {
      "provenance": []
    },
    "gpuClass": "standard",
    "kernelspec": {
      "display_name": "Python 3.9.12 64-bit",
      "language": "python",
      "name": "python3"
    },
    "language_info": {
      "name": "python",
      "version": "3.9.12"
    },
    "vscode": {
      "interpreter": {
        "hash": "0aff20c8916dd940e3b18988e96d9befcf0825fb2438a5c658640d160c267a45"
      }
    }
  },
  "nbformat": 4,
  "nbformat_minor": 0
}